{
 "cells": [
  {
   "cell_type": "code",
   "execution_count": 1,
   "metadata": {
    "collapsed": true
   },
   "outputs": [],
   "source": [
    "import time, networkx as nx\n",
    "import requests, matplotlib.pyplot as plt, pandas as pd\n",
    "from geopy.distance import great_circle, vincenty\n",
    "\n",
    "%matplotlib inline"
   ]
  },
  {
   "cell_type": "code",
   "execution_count": 2,
   "metadata": {
    "collapsed": true
   },
   "outputs": [],
   "source": [
    "# San Francisco\n",
    "north = 37.81\n",
    "south = 37.76\n",
    "east = -122.40\n",
    "west = -122.45"
   ]
  },
  {
   "cell_type": "markdown",
   "metadata": {},
   "source": [
    "## Define functions for downloading and processing the OSM data"
   ]
  },
  {
   "cell_type": "code",
   "execution_count": 3,
   "metadata": {
    "collapsed": true
   },
   "outputs": [],
   "source": [
    "def osm_download(north, south, east, west):\n",
    "    start_time = time.time()\n",
    "    url = 'http://www.overpass-api.de/api/interpreter'\n",
    "    filters='\"highway\"!~\"motor\"' # network type is walking, so exclude things like freeways\n",
    "    data = '[out:json];(  way  [\"highway\"]  [{}]  ({},{},{},{});  >;);out;'\n",
    "    params = {'data' : data.format(filters, south, west, north, east)} #box as south,west,north,east\n",
    "    response = requests.get(url, params=params)\n",
    "    print('downloaded data in {:,.2f} seconds from {}'.format(time.time()-start_time, response.url))\n",
    "    return response.json()"
   ]
  },
  {
   "cell_type": "code",
   "execution_count": 4,
   "metadata": {
    "collapsed": true
   },
   "outputs": [],
   "source": [
    "# convert an OSM node element into the format for a networkx node\n",
    "def get_node(element):\n",
    "    node = {}\n",
    "    node['lat'] = element['lat']\n",
    "    node['lon'] = element['lon']\n",
    "    if 'tags' in element:\n",
    "        node['highway'] = element['tags']['highway'] if 'highway' in element['tags'] else None\n",
    "    return node"
   ]
  },
  {
   "cell_type": "code",
   "execution_count": 5,
   "metadata": {
    "collapsed": true
   },
   "outputs": [],
   "source": [
    "# convert an OSM way element into the format for a networkx graph path\n",
    "def get_path(element):\n",
    "    path = {}\n",
    "    path['nodes'] = element['nodes']\n",
    "    if 'tags' in element:\n",
    "        path['name'] = element['tags']['name'] if 'name' in element['tags'] else None\n",
    "        path['city'] = element['tags']['addr:city'] if 'addr:city' in element['tags'] else None\n",
    "        path['highway'] = element['tags']['highway'] if 'highway' in element['tags'] else None\n",
    "        path['maxspeed'] = element['tags']['maxspeed'] if 'maxspeed' in element['tags'] else None\n",
    "    return path"
   ]
  },
  {
   "cell_type": "markdown",
   "metadata": {},
   "source": [
    "## Download and process the data"
   ]
  },
  {
   "cell_type": "code",
   "execution_count": 6,
   "metadata": {
    "collapsed": false
   },
   "outputs": [
    {
     "name": "stdout",
     "output_type": "stream",
     "text": [
      "downloaded data in 4.27 seconds from http://www.overpass-api.de/api/interpreter?data=%5Bout%3Ajson%5D%3B%28++way++%5B%22highway%22%5D++%5B%22highway%22%21~%22motor%22%5D++%2837.76%2C-122.45%2C37.81%2C-122.4%29%3B++%3E%3B%29%3Bout%3B\n"
     ]
    }
   ],
   "source": [
    "# get all nodes and ways by passing in bounding box\n",
    "osm_data = osm_download(north, south, east, west)"
   ]
  },
  {
   "cell_type": "code",
   "execution_count": 7,
   "metadata": {
    "collapsed": true
   },
   "outputs": [],
   "source": [
    "nodes = {}\n",
    "paths = {}\n",
    "for element in osm_data['elements']:\n",
    "    if element['type'] == 'node':\n",
    "        key = element['id']\n",
    "        nodes[key] = get_node(element)\n",
    "    elif element['type'] == 'way': #osm calls network paths 'ways'\n",
    "        key = element['id']\n",
    "        paths[key] = get_path(element)"
   ]
  },
  {
   "cell_type": "code",
   "execution_count": 8,
   "metadata": {
    "collapsed": false
   },
   "outputs": [
    {
     "data": {
      "text/plain": [
       "18696"
      ]
     },
     "execution_count": 8,
     "metadata": {},
     "output_type": "execute_result"
    }
   ],
   "source": [
    "len(osm_data['elements'])"
   ]
  },
  {
   "cell_type": "code",
   "execution_count": 9,
   "metadata": {
    "collapsed": false
   },
   "outputs": [
    {
     "data": {
      "text/plain": [
       "14425"
      ]
     },
     "execution_count": 9,
     "metadata": {},
     "output_type": "execute_result"
    }
   ],
   "source": [
    "len(nodes)"
   ]
  },
  {
   "cell_type": "code",
   "execution_count": 10,
   "metadata": {
    "collapsed": false
   },
   "outputs": [
    {
     "data": {
      "text/plain": [
       "4271"
      ]
     },
     "execution_count": 10,
     "metadata": {},
     "output_type": "execute_result"
    }
   ],
   "source": [
    "len(paths)"
   ]
  },
  {
   "cell_type": "markdown",
   "metadata": {},
   "source": [
    "## Create the graph"
   ]
  },
  {
   "cell_type": "code",
   "execution_count": 11,
   "metadata": {
    "collapsed": true
   },
   "outputs": [],
   "source": [
    "G = nx.Graph()"
   ]
  },
  {
   "cell_type": "code",
   "execution_count": 12,
   "metadata": {
    "collapsed": true
   },
   "outputs": [],
   "source": [
    "# add each node to the graph\n",
    "for node_id, node in nodes.items():\n",
    "    hwy = node['highway'] if 'highway' in node else None\n",
    "    G.add_node(node_id, osm_id=node_id, lat=node['lat'], lon=node['lon'], highway=hwy)"
   ]
  },
  {
   "cell_type": "code",
   "execution_count": 13,
   "metadata": {
    "collapsed": true
   },
   "outputs": [],
   "source": [
    "# add each path to the graph\n",
    "for path_id, path in paths.items():\n",
    "    G.add_path(path['nodes'], osm_id=path_id, name=path['name'], city=path['city'], \n",
    "               highway=path['highway'], maxspeed=path['maxspeed'])"
   ]
  },
  {
   "cell_type": "code",
   "execution_count": 14,
   "metadata": {
    "collapsed": true
   },
   "outputs": [],
   "source": [
    "# if the graph is not connected, get the largest connected subgraph\n",
    "if not nx.is_connected(G):\n",
    "    G = max(nx.connected_component_subgraphs(G), key=len)"
   ]
  },
  {
   "cell_type": "code",
   "execution_count": 15,
   "metadata": {
    "collapsed": false
   },
   "outputs": [],
   "source": [
    "# add length (great circle distance between vertices) attribute to each edge to use as weight\n",
    "for u, v in G.edges():\n",
    "    u_point = (G.node[u]['lat'], G.node[u]['lon'])\n",
    "    v_point = (G.node[v]['lat'], G.node[v]['lon'])\n",
    "    edge_length = great_circle(u_point, v_point).m #geopy points are (lat, lon)\n",
    "    G[u][v]['length'] = edge_length"
   ]
  },
  {
   "cell_type": "code",
   "execution_count": 16,
   "metadata": {
    "collapsed": true
   },
   "outputs": [],
   "source": [
    "# change the node labels from osm_ids to the standard sequential integers\n",
    "G = nx.convert_node_labels_to_integers(G)"
   ]
  },
  {
   "cell_type": "code",
   "execution_count": 17,
   "metadata": {
    "collapsed": false
   },
   "outputs": [
    {
     "data": {
      "text/plain": [
       "14178"
      ]
     },
     "execution_count": 17,
     "metadata": {},
     "output_type": "execute_result"
    }
   ],
   "source": [
    "len(G.nodes())"
   ]
  },
  {
   "cell_type": "code",
   "execution_count": 18,
   "metadata": {
    "collapsed": false
   },
   "outputs": [
    {
     "data": {
      "text/plain": [
       "17033"
      ]
     },
     "execution_count": 18,
     "metadata": {},
     "output_type": "execute_result"
    }
   ],
   "source": [
    "len(G.edges())"
   ]
  },
  {
   "cell_type": "markdown",
   "metadata": {},
   "source": [
    "## Truncate the graph to nodes within 500m of centermost node"
   ]
  },
  {
   "cell_type": "code",
   "execution_count": 19,
   "metadata": {
    "collapsed": false
   },
   "outputs": [
    {
     "data": {
      "text/plain": [
       "(37.785, -122.42500000000001)"
      ]
     },
     "execution_count": 19,
     "metadata": {},
     "output_type": "execute_result"
    }
   ],
   "source": [
    "central_point = ((north+south)/2, (east+west)/2)\n",
    "central_point"
   ]
  },
  {
   "cell_type": "code",
   "execution_count": 20,
   "metadata": {
    "collapsed": false
   },
   "outputs": [
    {
     "data": {
      "text/plain": [
       "9064"
      ]
     },
     "execution_count": 20,
     "metadata": {},
     "output_type": "execute_result"
    }
   ],
   "source": [
    "# return the network node nearest to the specified point. geopy points are (lat, lon)\n",
    "def get_nearest_node(G, point):\n",
    "    nodes = G.nodes(data=True)\n",
    "    nearest_node = min(nodes, key=lambda node: great_circle((node[1]['lat'], node[1]['lon']), point).m)\n",
    "    return nearest_node[0] \n",
    "\n",
    "centermost_node = get_nearest_node(G, central_point)\n",
    "centermost_node"
   ]
  },
  {
   "cell_type": "code",
   "execution_count": 21,
   "metadata": {
    "collapsed": false
   },
   "outputs": [
    {
     "data": {
      "text/plain": [
       "243"
      ]
     },
     "execution_count": 21,
     "metadata": {},
     "output_type": "execute_result"
    }
   ],
   "source": [
    "# remove everything greater than some distance from a specified node in graph\n",
    "def truncate_graph(G, source_node, max_distance=1000, weight='length'):\n",
    "    distances = nx.shortest_path_length(G, source=source_node, weight=weight)\n",
    "    distant_nodes = {k: v for k, v in distances.items() if v > max_distance}\n",
    "    G.remove_nodes_from(distant_nodes.keys())\n",
    "    \n",
    "truncate_graph(G, centermost_node, max_distance=500)\n",
    "len(G.nodes())"
   ]
  },
  {
   "cell_type": "markdown",
   "metadata": {},
   "source": [
    "## Plot the network"
   ]
  },
  {
   "cell_type": "code",
   "execution_count": 22,
   "metadata": {
    "collapsed": true
   },
   "outputs": [],
   "source": [
    "fig_width = 8\n",
    "bbox_aspect_ratio = (north-south)/(east-west)"
   ]
  },
  {
   "cell_type": "code",
   "execution_count": 23,
   "metadata": {
    "collapsed": true
   },
   "outputs": [],
   "source": [
    "lons = [float(node['lon']) for node in G.node.values()]\n",
    "lats = [float(node['lat']) for node in G.node.values()]"
   ]
  },
  {
   "cell_type": "code",
   "execution_count": 24,
   "metadata": {
    "collapsed": false
   },
   "outputs": [
    {
     "data": {
      "image/png": "[encoded data removed]",
      "text/plain": [
       "<matplotlib.figure.Figure at 0x1cc02bac828>"
      ]
     },
     "metadata": {},
     "output_type": "display_data"
    }
   ],
   "source": [
    "fig, ax = plt.subplots(figsize=(fig_width, fig_width * bbox_aspect_ratio))\n",
    "for u, v, edge_details in G.edges(data=True):\n",
    "    x = (G.node[u]['lon'], G.node[v]['lon'])\n",
    "    y = (G.node[u]['lat'], G.node[v]['lat'])\n",
    "    ax.plot(x, y, color='k', linewidth=1, alpha=0.5)\n",
    "\n",
    "ax.scatter(lons, lats, s=15, c='r', alpha=0.5, edgecolor='none')\n",
    "\n",
    "ax.scatter(G.node[centermost_node]['lon'], \n",
    "           G.node[centermost_node]['lat'], \n",
    "           s=200, c='b', alpha=0.5, edgecolor='none')\n",
    "\n",
    "#ax.set_ylim((south, north))\n",
    "#ax.set_xlim((west, east))\n",
    "fig.savefig('images/net.png', dpi=100)\n",
    "plt.show()"
   ]
  },
  {
   "cell_type": "code",
   "execution_count": null,
   "metadata": {
    "collapsed": true
   },
   "outputs": [],
   "source": []
  }
 ],
 "metadata": {
  "kernelspec": {
   "display_name": "Python 3",
   "language": "python",
   "name": "python3"
  },
  "language_info": {
   "codemirror_mode": {
    "name": "ipython",
    "version": 3
   },
   "file_extension": ".py",
   "mimetype": "text/x-python",
   "name": "python",
   "nbconvert_exporter": "python",
   "pygments_lexer": "ipython3",
   "version": "3.5.2"
  }
 },
 "nbformat": 4,
 "nbformat_minor": 0
}
