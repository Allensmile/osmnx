{
 "cells": [
  {
   "cell_type": "markdown",
   "metadata": {},
   "source": [
    "# Street network figure-ground diagrams, a la Allan Jacobs's *Great Streets*\n",
    "\n",
    "Use OSMnx to download square-mile city street networks and visualize them.\n",
    "\n",
    "  - [Overview of OSMnx](http://geoffboeing.com/2016/11/osmnx-python-street-networks/)\n",
    "  - [GitHub repo](https://github.com/gboeing/osmnx)\n",
    "  - [Examples, demos, tutorials](https://github.com/gboeing/osmnx/tree/master/examples)"
   ]
  },
  {
   "cell_type": "code",
   "execution_count": 1,
   "metadata": {
    "collapsed": false
   },
   "outputs": [],
   "source": [
    "import osmnx as ox, matplotlib.pyplot as plt\n",
    "%matplotlib inline\n",
    "ox.config(log_file=True, log_console=True, use_cache=True)"
   ]
  },
  {
   "cell_type": "code",
   "execution_count": 2,
   "metadata": {
    "collapsed": true
   },
   "outputs": [],
   "source": [
    "dist = 805 #one half mile converted to meters\n",
    "\n",
    "# create a list of place names, center lat-long points, and network types\n",
    "places = [['sf', (37.793897, -122.402189), 'drive_service'],\n",
    "          ['portland', (45.517309, -122.682138), 'drive_service'],\n",
    "          ['irvine', (33.694981, -117.841375), 'drive_service'],\n",
    "          ['rome', (41.901336, 12.471831), 'all']]"
   ]
  },
  {
   "cell_type": "code",
   "execution_count": 3,
   "metadata": {
    "collapsed": false
   },
   "outputs": [
    {
     "name": "stdout",
     "output_type": "stream",
     "text": [
      "sf (37.793897, -122.402189)\n",
      "portland (45.517309, -122.682138)\n",
      "irvine (33.694981, -117.841375)\n",
      "rome (41.901336, 12.471831)\n"
     ]
    }
   ],
   "source": [
    "for name, point, nt in places:\n",
    "    print(name, point)\n",
    "    \n",
    "    # get the network within 1/2 mile north, south, east, and west of the point, then project to UTM\n",
    "    G = ox.graph_from_point(point, distance=dist, distance_type='bbox', network_type=nt, truncate_by_edge=True)\n",
    "    G = ox.project_graph(G)\n",
    "    \n",
    "    # ascribe street widths in pixels according to edge type\n",
    "    ew = []\n",
    "    for u, v, key, data in G.edges(keys=True, data=True):\n",
    "        if data['highway'] in ['footway', 'steps', 'pedestrian', 'service', 'footway', 'path', 'track']:\n",
    "            width = 1.5\n",
    "        elif data['highway'] in ['motorway']:\n",
    "            width = 6\n",
    "        else:\n",
    "            width = 4\n",
    "        ew.append(width)\n",
    "    \n",
    "    # create the plot's bounding box in meters to limit the plot to the square mile bounding box requested\n",
    "    # this is only necessary when truncate_by_edge=True to prevent display of nodes/edges that extend beyond bounding box\n",
    "    bbox_proj = ox.bbox_from_point(point, dist, project_utm=True)\n",
    "    \n",
    "    # plot the graph and save it to disk\n",
    "    fig, ax = ox.plot_graph(G, bbox=bbox_proj, fig_height=8, margin=0, node_size=0, \n",
    "                            edge_linewidth=ew, edge_color='w', bgcolor='#333333', \n",
    "                            show=False, save=True, filename='gs_{}'.format(name))"
   ]
  },
  {
   "cell_type": "code",
   "execution_count": null,
   "metadata": {
    "collapsed": false
   },
   "outputs": [],
   "source": []
  }
 ],
 "metadata": {
  "anaconda-cloud": {},
  "kernelspec": {
   "display_name": "Python [default]",
   "language": "python",
   "name": "python3"
  },
  "language_info": {
   "codemirror_mode": {
    "name": "ipython",
    "version": 3
   },
   "file_extension": ".py",
   "mimetype": "text/x-python",
   "name": "python",
   "nbconvert_exporter": "python",
   "pygments_lexer": "ipython3",
   "version": "3.5.2"
  }
 },
 "nbformat": 4,
 "nbformat_minor": 0
}
